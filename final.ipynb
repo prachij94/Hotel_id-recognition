{
 "cells": [
  {
   "cell_type": "code",
   "execution_count": 1,
   "metadata": {},
   "outputs": [],
   "source": [
    "import numpy as np\n",
    "import pandas as pd\n",
    "import tensorflow as tf\n",
    "from tensorflow.keras import Model\n",
    "import faiss\n",
    "import pickle\n",
    "from sklearn.preprocessing import LabelEncoder\n",
    "from sklearn.metrics.cluster import normalized_mutual_info_score"
   ]
  },
  {
   "cell_type": "code",
   "execution_count": null,
   "metadata": {},
   "outputs": [],
   "source": [
    "tf.keras.backend.clear_session()\n",
    "    \n",
    "#load the saved test model\n",
    "test_model = tf.keras.models.load_model('test_model_saved', compile=False)"
   ]
  },
  {
   "cell_type": "code",
   "execution_count": 2,
   "metadata": {},
   "outputs": [],
   "source": [
    "def final_fun_1(X):\n",
    "    '''\n",
    "    Function takes single data point input and returns the prediction\n",
    "    '''\n",
    "    \n",
    "    #read image file at the path\n",
    "    image = tf.io.read_file(X)\n",
    "    \n",
    "    image = tf.image.decode_jpeg(image, channels=3)\n",
    "    \n",
    "    #resize image\n",
    "    image = tf.image.resize(image, [64,64])\n",
    "    \n",
    "    #convert to float32\n",
    "    image = tf.cast(image, tf.float32)\n",
    "    \n",
    "    # normalize image to [0,1] range\n",
    "    image /= 255.0\n",
    "    \n",
    "    \n",
    "    # get embeddings for the test image\n",
    "    test_embeds = test_model(np.expand_dims(image,0))\n",
    "    \n",
    "    #normalize the image pixels\n",
    "    norm = np.linalg.norm(test_embeds, axis=1, keepdims=True)\n",
    "    test_embeds = test_embeds / norm\n",
    "    \n",
    "    #convert from tensor to array\n",
    "    test_embeds = test_embeds.numpy()\n",
    "    \n",
    "    \n",
    "    #load the saved kmeans trained model index\n",
    "    kmeans_index = faiss.read_index(\"kmeans_trained.index\")\n",
    "    \n",
    "    #search for nearest distance and indices of the test embeddings to the centroids\n",
    "    distances, indices = kmeans_index.search(test_embeds,5)\n",
    "    \n",
    "    # load the saved label encoder\n",
    "    with open('le.pkl', \"rb\") as input_file:\n",
    "        le = pickle.load(input_file)\n",
    "    \n",
    "    # get the actual outputs using the inverse transform of the saved label encoder\n",
    "    actual_output_labels = le.inverse_transform(indices[0])\n",
    "    \n",
    "    return actual_output_labels"
   ]
  },
  {
   "cell_type": "code",
   "execution_count": 3,
   "metadata": {},
   "outputs": [],
   "source": [
    "def final_fun_2(X,y):\n",
    "    '''\n",
    "    Function takes single data point input and its correct result value\n",
    "    and returns the errors\n",
    "    '''\n",
    "    \n",
    "    #call the function 1 to get the predicted labels\n",
    "    pred_labels = final_fun_1(X)\n",
    "    \n",
    "    #squeeze the labels array\n",
    "    pred_labels = pred_labels.squeeze()\n",
    "    \n",
    "    #get the correlation score between the predicted and true labels\n",
    "    nmi = normalized_mutual_info_score(y, np.array([pred_labels[0]]))\n",
    "    \n",
    "    # load the error file\n",
    "    with open(\"kmeans_error.pkl\", \"rb\") as f:\n",
    "        total_square_error = pickle.load(f)\n",
    "    \n",
    "    \n",
    "    return total_square_error, nmi"
   ]
  },
  {
   "cell_type": "code",
   "execution_count": 4,
   "metadata": {},
   "outputs": [],
   "source": [
    "#the input data point\n",
    "X = 'hotel-id-2021-fgvc8/train_images/85/8000d59f6a3d765f.jpg'\n",
    "\n",
    "# the true target value\n",
    "y = np.array([24607])"
   ]
  },
  {
   "cell_type": "code",
   "execution_count": 5,
   "metadata": {},
   "outputs": [
    {
     "data": {
      "text/plain": [
       "array([42350, 59929, 11836, 35324, 39316])"
      ]
     },
     "execution_count": 5,
     "metadata": {},
     "output_type": "execute_result"
    }
   ],
   "source": [
    "# function call to get predicted values for an input datapoint\n",
    "final_fun_1(X)"
   ]
  },
  {
   "cell_type": "code",
   "execution_count": 6,
   "metadata": {},
   "outputs": [
    {
     "data": {
      "text/plain": [
       "(912.0593872070312, 1.0)"
      ]
     },
     "execution_count": 6,
     "metadata": {},
     "output_type": "execute_result"
    }
   ],
   "source": [
    "# function call to get error metrics for an input datapoint and true value\n",
    "final_fun_2(X,y)"
   ]
  },
  {
   "cell_type": "code",
   "execution_count": null,
   "metadata": {},
   "outputs": [],
   "source": []
  },
  {
   "cell_type": "code",
   "execution_count": null,
   "metadata": {},
   "outputs": [],
   "source": []
  }
 ],
 "metadata": {
  "kernelspec": {
   "display_name": "Python 3",
   "language": "python",
   "name": "python3"
  },
  "language_info": {
   "codemirror_mode": {
    "name": "ipython",
    "version": 3
   },
   "file_extension": ".py",
   "mimetype": "text/x-python",
   "name": "python",
   "nbconvert_exporter": "python",
   "pygments_lexer": "ipython3",
   "version": "3.9.2"
  }
 },
 "nbformat": 4,
 "nbformat_minor": 2
}
